{
  "cells": [
    {
      "cell_type": "markdown",
      "metadata": {
        "id": "lV1RibvRe9Vb"
      },
      "source": [
        "# To be completed at the Live Session and in your own time.\n",
        "\n",
        "These set of examples we will help you get familiar with Jupyter notebooks and useful Python packages and terminology - this is important not only for practice required for the assessements, but also to go through some of the basic concepts that will be needed to understand how to do data analysis, using Python and Jupyter Notebooks as our tools.\n",
        "\n",
        "Before attempting these examples, please ensure you have read through [Chapter 1 Jupyter Notebook](https://github.com/haleygomez/Data-Analysis-2022/blob/master/blended_exercises/Chapter1/Chapter1.ipynb) and have completed the Learning Central **Chapter 1 quiz**."
      ]
    },
    {
      "cell_type": "markdown",
      "metadata": {
        "id": "sJvbMMHLe9Ve"
      },
      "source": [
        "First we will define some useful packages we want to use in this notebook to answer the following questions:"
      ]
    },
    {
      "cell_type": "code",
      "execution_count": null,
      "metadata": {
        "id": "5-OKV2pZe9Vf"
      },
      "outputs": [],
      "source": [
        "# define and import some important things\n",
        "import numpy as np\n",
        "import pylab as plt\n",
        "\n",
        "%matplotlib inline"
      ]
    },
    {
      "cell_type": "markdown",
      "metadata": {
        "id": "6hrZi2U3e9Vg"
      },
      "source": [
        "***"
      ]
    },
    {
      "cell_type": "markdown",
      "metadata": {
        "id": "TQUruP3Xe9Vg"
      },
      "source": [
        "\n",
        "# Plotting in Python"
      ]
    },
    {
      "cell_type": "markdown",
      "metadata": {
        "id": "rbFZQuble9Vh"
      },
      "source": [
        "## Question"
      ]
    },
    {
      "cell_type": "markdown",
      "metadata": {
        "id": "chyesqZJe9Vh"
      },
      "source": [
        "A star brightens over time until it explodes as a supernova. Astronomers record the brightness (as a factor of the normal brightness) with days since it started to brighten, recording the following datasets: <br><br>\n",
        "\n",
        "time = [0.,0.08163265,    0.24489796,  0.32653061,  \n",
        "  0.48979592,   0.73469388,  0.81632653,  \n",
        "  0.97959184 ,  1.2244898 ,  1.30612245,  \n",
        "  1.46938776  ,1.71428571,  1.79591837,\n",
        "  1.95918367 ,   2.20408163,  2.28571429,  \n",
        "  2.44897959 ,    2.7755102,\n",
        "  2.93877551 ,  3.18367347 , 3.26530612  ,\n",
        "  3.42857143 , 3.67346939,  3.75510204   , 4.       ]\n",
        "<br><br>\n",
        "\n",
        "brightness = [0.36253211,    1.16748232 ,\n",
        "  1.78775018,  2.01934344 ,   2.70657393 ,\n",
        "  2.57897185,  2.96562829 ,    3.00174824 ,\n",
        "  2.93663326,  2.80591525 ,   2.11027035 ,\n",
        "  1.67940753,  1.64772549 ,  0.3513817  ,\n",
        "  0.33366962,  0.47097419 , -0.39790443,\n",
        " -0.65133529, -1.52086508 , -1.76831912,\n",
        " -2.05865798, -1.55083722 ,-1.90755375 ,\n",
        " -1.74307249, -1.66250842]\n",
        "\n",
        "<br>\n",
        "\n",
        "Day 0 marks the time of the explosion.\n",
        "<br>\n",
        "\n",
        "1. Plot the data. Don't forget to label the axes. Set the colour of the data to be green with a diamond marker with marker size = 50. <br><br>\n",
        "\n",
        "2. The brightness values have an estimated error of 10%.  Plot the datapoints with errorbars in $y$.   <br><br>\n",
        "\n",
        "3. Astronomer Rees argues that this data could be fit by the function $y =  Asin(Bx)+C$. Plot this function on top of your data with some guesses at what $A$, $B$ and $C$ are (hint: $C=0.5$ provides a good fit to the data).<br><br>\n",
        "\n",
        "4. Discuss the plot."
      ]
    },
    {
      "cell_type": "markdown",
      "metadata": {
        "id": "kQ3J_ZvTe9Vi"
      },
      "source": [
        "### Answer:"
      ]
    },
    {
      "cell_type": "markdown",
      "metadata": {
        "id": "t7Fpa3FGe9Vi"
      },
      "source": [
        "*Your answer here:*"
      ]
    },
    {
      "cell_type": "markdown",
      "metadata": {
        "id": "GgLlmz6de9Vj"
      },
      "source": [
        "\n"
      ]
    },
    {
      "cell_type": "code",
      "source": [
        "\n",
        "time = [0.,0.08163265, 0.24489796, 0.32653061,\n",
        "0.48979592, 0.73469388, 0.81632653,\n",
        "0.97959184 , 1.2244898 , 1.30612245,\n",
        "1.46938776 ,1.71428571, 1.79591837, 1.95918367 , 2.20408163, 2.28571429,\n",
        "2.44897959 , 2.7755102, 2.93877551 , 3.18367347 , 3.26530612 , 3.42857143 , 3.67346939, 3.75510204 , 4.0 ]\n",
        "\n",
        "brightness = [0.36253211, 1.16748232 , 1.78775018, 2.01934344 , 2.70657393 , 2.57897185, 2.96562829 , 3.00174824 , 2.93663326, 2.80591525 , 2.11027035 , 1.67940753, 1.64772549 , 0.3513817 , 0.33366962, 0.47097419 , -0.39790443, -0.65133529, -1.52086508 , -1.76831912, -2.05865798, -1.55083722 ,-1.90755375 , -1.74307249, -1.66250842]\n",
        "\n",
        "\n",
        "plt.scatter(time, brightness, s = 50 , marker = \"d\" ,c = 'green')\n",
        "plt.xlabel('time')\n",
        "plt.ylabel('brightness')"
      ],
      "metadata": {
        "id": "_k4c8NOCfcG4",
        "outputId": "27f8ba5e-8581-4509-8b40-e2cc1128ecbc",
        "colab": {
          "base_uri": "https://localhost:8080/",
          "height": 297
        }
      },
      "execution_count": null,
      "outputs": [
        {
          "output_type": "execute_result",
          "data": {
            "text/plain": [
              "Text(0, 0.5, 'brightness')"
            ]
          },
          "metadata": {},
          "execution_count": 16
        },
        {
          "output_type": "display_data",
          "data": {
            "text/plain": [
              "<Figure size 432x288 with 1 Axes>"
            ],
            "image/png": "[encoded data removed]"
          },
          "metadata": {
            "needs_background": "light"
          }
        }
      ]
    },
    {
      "cell_type": "code",
      "source": [
        "time = [0.,0.08163265, 0.24489796, 0.32653061,\n",
        "0.48979592, 0.73469388, 0.81632653,\n",
        "0.97959184 , 1.2244898 , 1.30612245,\n",
        "1.46938776 ,1.71428571, 1.79591837, 1.95918367 , 2.20408163, 2.28571429,\n",
        "2.44897959 , 2.7755102, 2.93877551 , 3.18367347 , 3.26530612 , 3.42857143 , 3.67346939, 3.75510204 , 4.0 ]\n",
        "\n",
        "brightness = np.array([0.36253211, 1.16748232 , 1.78775018, 2.01934344 , 2.70657393 , 2.57897185, 2.96562829 , 3.00174824 , 2.93663326, 2.80591525 , 2.11027035 , 1.67940753, 1.64772549 , 0.3513817 , 0.33366962, 0.47097419 , -0.39790443, -0.65133529, -1.52086508 , -1.76831912, -2.05865798, -1.55083722 ,-1.90755375 , -1.74307249, -1.66250842])\n",
        "y_error = brightness*0.1\n",
        "\n",
        "plt.scatter(time, brightness, s = 50, marker = \"d\" ,c = 'green')\n",
        "plt.errorbar(time, brightness, yerr = y_error,fmt='o',ecolor = 'cyan',color='green')\n",
        "plt.xlabel('time')\n",
        "plt.ylabel('brightness')"
      ],
      "metadata": {
        "id": "jmy1Gze6iG02",
        "outputId": "ed719d4f-2122-4e60-fe97-a651222a0dfd",
        "colab": {
          "base_uri": "https://localhost:8080/",
          "height": 297
        }
      },
      "execution_count": null,
      "outputs": [
        {
          "output_type": "execute_result",
          "data": {
            "text/plain": [
              "Text(0, 0.5, 'brightness')"
            ]
          },
          "metadata": {},
          "execution_count": 23
        },
        {
          "output_type": "display_data",
          "data": {
            "text/plain": [
              "<Figure size 432x288 with 1 Axes>"
            ],
            "image/png": "[encoded data removed]"
          },
          "metadata": {
            "needs_background": "light"
          }
        }
      ]
    },
    {
      "cell_type": "code",
      "source": [
        "from scipy.optimize import curve_fit\n",
        "\n",
        "time = [0.,0.08163265, 0.24489796, 0.32653061,\n",
        "0.48979592, 0.73469388, 0.81632653,\n",
        "0.97959184 , 1.2244898 , 1.30612245,\n",
        "1.46938776 ,1.71428571, 1.79591837, 1.95918367 , 2.20408163, 2.28571429,\n",
        "2.44897959 , 2.7755102, 2.93877551 , 3.18367347 , 3.26530612 , 3.42857143 , 3.67346939, 3.75510204 , 4.0 ]\n",
        "\n",
        "brightness = np.array([0.36253211, 1.16748232 , 1.78775018, 2.01934344 , 2.70657393 , 2.57897185, 2.96562829 , 3.00174824 , 2.93663326, 2.80591525 , 2.11027035 , 1.67940753, 1.64772549 , 0.3513817 , 0.33366962, 0.47097419 , -0.39790443, -0.65133529, -1.52086508 , -1.76831912, -2.05865798, -1.55083722 ,-1.90755375 , -1.74307249, -1.66250842])\n",
        "y_error = brightness*0.1\n",
        "\n",
        "plt.scatter(time, brightness, s = 50, marker = \"d\" ,c = 'green')\n",
        "plt.errorbar(time, brightness, yerr = y_error,fmt='o',ecolor = 'cyan',color='green')\n",
        "plt.xlabel('time')\n",
        "plt.ylabel('brightness')\n",
        "\n",
        "\n",
        "def function(time, A, B, C):\n",
        "  return A*np.sin(B*time) + C\n",
        "\n",
        "p_guess  = np.array([2.4, 1.4, 0.5])\n",
        "popt, pcov = curve_fit(function, time, brightness, p_guess)\n",
        "x_plot = np.linspace(min(time), max(time))\n",
        "\n",
        "print( 'A:', popt[0], '+/-', np.sqrt(pcov.diagonal()[0]))\n",
        "print( 'B:', popt[0], '+/-', np.sqrt(pcov.diagonal()[0]))\n",
        "print( 'C:', popt[0], '+/-', np.sqrt(pcov.diagonal()[0]))\n",
        "\n",
        "yfit = function(x_plot, *popt)\n",
        "\n",
        "plt.plot(x_plot, yfit, 'b-')\n",
        "\n",
        "plt.figure()\n"
      ],
      "metadata": {
        "id": "pC_tJCFEnes3",
        "outputId": "b808d2dd-2d8e-40fe-91b7-f3c7fc804953",
        "colab": {
          "base_uri": "https://localhost:8080/",
          "height": 368
        }
      },
      "execution_count": null,
      "outputs": [
        {
          "output_type": "stream",
          "name": "stdout",
          "text": [
            "A: 2.4330017483693824 +/- 0.11772664752669379\n",
            "B: 2.4330017483693824 +/- 0.11772664752669379\n",
            "C: 2.4330017483693824 +/- 0.11772664752669379\n"
          ]
        },
        {
          "output_type": "execute_result",
          "data": {
            "text/plain": [
              "<Figure size 432x288 with 0 Axes>"
            ]
          },
          "metadata": {},
          "execution_count": 25
        },
        {
          "output_type": "display_data",
          "data": {
            "text/plain": [
              "<Figure size 432x288 with 1 Axes>"
            ],
            "image/png": "[encoded data removed]"
          },
          "metadata": {
            "needs_background": "light"
          }
        },
        {
          "output_type": "display_data",
          "data": {
            "text/plain": [
              "<Figure size 432x288 with 0 Axes>"
            ]
          },
          "metadata": {}
        }
      ]
    },
    {
      "cell_type": "markdown",
      "metadata": {
        "id": "rnMs-mGme9Vj"
      },
      "source": [
        "***"
      ]
    },
    {
      "cell_type": "markdown",
      "metadata": {
        "id": "k1jZ70jqe9Vj"
      },
      "source": [
        " # Conditional Statements"
      ]
    },
    {
      "cell_type": "markdown",
      "metadata": {
        "id": "y2_duU-Se9Vk"
      },
      "source": [
        "## Question"
      ]
    },
    {
      "cell_type": "markdown",
      "metadata": {
        "id": "xNMHDHDle9Vk"
      },
      "source": [
        "You are driving too fast and a police officer stops you. Write a **function** to return one of 3 possible results: \"No ticket\", \"Small ticket\", or \"Big Ticket\". If your speed is 70mph or less, the result is \"No Ticket\". If speed is between 71 and 80mph inclusive, the result is \"Small Ticket\". If speed is 81mph or more, the result is \"Big Ticket\". Unless it is your birthday -- on your birthday, the police officer will let you go at 5mph higher in all cases.\n",
        "<br>\n",
        "\n",
        "Tip: For your birthday, use True and False statements.\n",
        "<br>\n",
        "\n",
        "Demonstrate your code works using print statements."
      ]
    },
    {
      "cell_type": "markdown",
      "metadata": {
        "id": "EebpB9rSe9Vk"
      },
      "source": [
        "### Answer:"
      ]
    },
    {
      "cell_type": "markdown",
      "metadata": {
        "id": "c3xLceGye9Vk"
      },
      "source": [
        "*Your answer here:*"
      ]
    }
  ],
  "metadata": {
    "kernelspec": {
      "display_name": "Python 3",
      "language": "python",
      "name": "python3"
    },
    "language_info": {
      "codemirror_mode": {
        "name": "ipython",
        "version": 3
      },
      "file_extension": ".py",
      "mimetype": "text/x-python",
      "name": "python",
      "nbconvert_exporter": "python",
      "pygments_lexer": "ipython3",
      "version": "3.7.4"
    },
    "colab": {
      "provenance": []
    }
  },
  "nbformat": 4,
  "nbformat_minor": 0
}