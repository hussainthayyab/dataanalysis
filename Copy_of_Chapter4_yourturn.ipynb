{
  "cells": [
    {
      "cell_type": "markdown",
      "metadata": {
        "id": "bTEsh040dxZZ"
      },
      "source": [
        "# To be completed at the Live Session and in your own time.\n",
        "\n",
        "These set of examples we will help you get familiar with estimating probabilities and using Bayes Theorem within a Jupyter notebook.  The questions coloured green are important practice for CA.\n",
        "\n",
        "Before attempting these examples, please ensure you have read through [Chapter 4 Jupyter Notebook](https://github.com/haleygomez/Data-Analysis-2022/blob/master/blended_exercises/Chapter4/Chapter4.ipynb) and have completed the Learning Central **Chapter 4 quiz**.\n",
        "\n",
        "These are good practice for CA 1 Question 5."
      ]
    },
    {
      "cell_type": "markdown",
      "metadata": {
        "id": "i3_1-8XJdxZc"
      },
      "source": [
        "***"
      ]
    },
    {
      "cell_type": "markdown",
      "metadata": {
        "id": "oMr4d_uldxZc"
      },
      "source": [
        "# Errors"
      ]
    },
    {
      "cell_type": "markdown",
      "metadata": {
        "id": "3QUzUE1sdxZd"
      },
      "source": [
        "## Question"
      ]
    },
    {
      "cell_type": "markdown",
      "metadata": {
        "id": "KypLZEHmdxZd"
      },
      "source": [
        "Three students measure the same resistance several times, with final measurements (in Ohms):\n",
        "\n",
        "Student 1: $R = 11 \\pm 1$\n",
        "Student 2: $R = 12 \\pm 1$\n",
        "Student 3: $R = 10 \\pm 3$.\n",
        "\n",
        "Given these three results what do we write down as the best estimate for the resistance $R$? Tip: you will need to use weighted errors."
      ]
    },
    {
      "cell_type": "markdown",
      "metadata": {
        "id": "upmticG8dxZd"
      },
      "source": [
        "### Answer"
      ]
    },
    {
      "cell_type": "markdown",
      "metadata": {
        "id": "NX9s0D-HdxZe"
      },
      "source": [
        "*Your answer here.*"
      ]
    },
    {
      "cell_type": "markdown",
      "metadata": {
        "id": "QOnowXsRdxZe"
      },
      "source": [
        "***"
      ]
    },
    {
      "cell_type": "markdown",
      "source": [
        "Here we neeed weighted average:\n",
        "\n",
        "X0 = (wAxA + wBxB)/(wA + wB)\n",
        "\n",
        "wA = 1/(stdev)^2\n",
        "\n",
        "wB = 1/(stdev)^2\n",
        "\n",
        "3 students:\n",
        "\n",
        "X0 = (wAxA + wBxB + wCxC)/(wA + wB + wC)\n",
        "\n",
        "wA = 1/(1)^2\n",
        "\n",
        "wB = 1/(1)^2\n",
        "\n",
        "wC = 1/(3)^2\n",
        "\n",
        "xA = 11\n",
        "xB = 12\n",
        "xC = 10"
      ],
      "metadata": {
        "id": "gz8bVBSchJOn"
      }
    },
    {
      "cell_type": "code",
      "source": [
        "wA = 1/(1**2)\n",
        "wB = 1/(1**2)\n",
        "wC = 1/(3**2)\n",
        "\n",
        "xA = 11\n",
        "xB = 12\n",
        "xC = 10\n",
        "\n",
        "X0 = ((wA*xA) + (wB*xB) + (wC*xC))/(wA + wB + wC)\n",
        "\n",
        "stdev = wA+ wB +wC\n",
        "\n",
        "print('The best estimate for R is',X0, '+-', stdev)"
      ],
      "metadata": {
        "colab": {
          "base_uri": "https://localhost:8080/"
        },
        "id": "dtZjNkBSiVq-",
        "outputId": "6bbb712c-8d16-489e-f582-afa03b0263d4"
      },
      "execution_count": null,
      "outputs": [
        {
          "output_type": "stream",
          "name": "stdout",
          "text": [
            "The best estimate for R is 11.421052631578947 +- 2.111111111111111\n"
          ]
        }
      ]
    },
    {
      "cell_type": "markdown",
      "metadata": {
        "id": "gtppoE5NdxZe"
      },
      "source": [
        "# Correlation"
      ]
    },
    {
      "cell_type": "markdown",
      "metadata": {
        "id": "kTgVzqe6dxZf"
      },
      "source": [
        "## <font color=#30a64d>Question </font>"
      ]
    },
    {
      "cell_type": "markdown",
      "metadata": {
        "id": "0QYPZMFWdxZf"
      },
      "source": [
        "The datafile [worldpopulation.txt](https://github.com/haleygomez/Data-Analysis-2021/raw/master/blended_exercises/Chapter4/worldpopulation.txt) contains the world population size measured since 1960. Plot the data (you will need to upload the datafile to your Google Colab). <br><br>\n",
        "\n",
        "Measure the correlation coefficient using the in built Python package for the Pearson $r$s statistic. <br><br>\n",
        "\n",
        "Measure it again but this time creating the functions to calculate $r$ from scratch.  \n",
        "\n",
        "The url of the file is \"https://github.com/haleygomez/Data-Analysis-2021/raw/master/blended_exercises/Chapter4/worldpopulation.txt\""
      ]
    },
    {
      "cell_type": "markdown",
      "metadata": {
        "id": "XL5953fvdxZg"
      },
      "source": [
        "### Answer"
      ]
    },
    {
      "cell_type": "markdown",
      "metadata": {
        "id": "qLbErmO8dxZg"
      },
      "source": [
        "*Your answer here.*"
      ]
    },
    {
      "cell_type": "code",
      "source": [
        "!wget https://raw.githubusercontent.com/haleygomez/Data-Analysis-2021/master/blended_exercises/Chapter4/worldpopulation.txt"
      ],
      "metadata": {
        "colab": {
          "base_uri": "https://localhost:8080/"
        },
        "id": "K4ppasDdkGYV",
        "outputId": "7fa3e522-8d9d-4b98-c3ec-7b9a1c98c16d"
      },
      "execution_count": null,
      "outputs": [
        {
          "output_type": "stream",
          "name": "stdout",
          "text": [
            "--2022-10-24 10:36:44--  https://raw.githubusercontent.com/haleygomez/Data-Analysis-2021/master/blended_exercises/Chapter4/worldpopulation.txt\n",
            "Resolving raw.githubusercontent.com (raw.githubusercontent.com)... 185.199.108.133, 185.199.109.133, 185.199.110.133, ...\n",
            "Connecting to raw.githubusercontent.com (raw.githubusercontent.com)|185.199.108.133|:443... connected.\n",
            "HTTP request sent, awaiting response... 200 OK\n",
            "Length: 2950 (2.9K) [text/plain]\n",
            "Saving to: ‘worldpopulation.txt’\n",
            "\n",
            "\rworldpopulation.txt   0%[                    ]       0  --.-KB/s               \rworldpopulation.txt 100%[===================>]   2.88K  --.-KB/s    in 0s      \n",
            "\n",
            "2022-10-24 10:36:44 (48.0 MB/s) - ‘worldpopulation.txt’ saved [2950/2950]\n",
            "\n"
          ]
        }
      ]
    },
    {
      "cell_type": "code",
      "source": [
        "import numpy as np\n",
        "import matplotlib.pyplot as plt\n",
        "wpop = np.loadtxt('worldpopulation.txt')\n",
        "plt.plot(wpop[0], wpop[1])"
      ],
      "metadata": {
        "colab": {
          "base_uri": "https://localhost:8080/",
          "height": 294
        },
        "id": "oA4h1ukhkp7e",
        "outputId": "e8117cbd-1942-4047-8897-4d5e86b7d278"
      },
      "execution_count": null,
      "outputs": [
        {
          "output_type": "execute_result",
          "data": {
            "text/plain": [
              "[<matplotlib.lines.Line2D at 0x7f857d90e250>]"
            ]
          },
          "metadata": {},
          "execution_count": 9
        },
        {
          "output_type": "display_data",
          "data": {
            "text/plain": [
              "<Figure size 432x288 with 1 Axes>"
            ],
            "image/png": "[encoded data removed]"
          },
          "metadata": {
            "needs_background": "light"
          }
        }
      ]
    },
    {
      "cell_type": "markdown",
      "metadata": {
        "id": "zNMV2z86dxZg"
      },
      "source": [
        "***"
      ]
    },
    {
      "cell_type": "markdown",
      "metadata": {
        "id": "8qPmGYHqdxZg"
      },
      "source": [
        "# Hypothesis Testing"
      ]
    },
    {
      "cell_type": "markdown",
      "metadata": {
        "id": "EkNMRoErdxZh"
      },
      "source": [
        "## <font color=#30a64d>Question</font>"
      ]
    },
    {
      "cell_type": "markdown",
      "metadata": {
        "id": "3BqqNX2udxZh"
      },
      "source": [
        "A company releases a new ski wax that it claims (naturally) is superior to its rivals, and greatly reduces the friction between skis and snow. A skiing magazine decides to test the claim by performing an experiment. They take 10 pairs of skis, and treat one ski from each pair -- the left one -- with the new wax, and the other (the right) ski with the wax from a competing brand. Each pair of skis are then released from the top of a ramp in turn, and they record which of the two skis reach the bottom of the ramp first.    The team find that the new skis win 8 of the 10 races.  Is their claim correct?"
      ]
    },
    {
      "cell_type": "markdown",
      "metadata": {
        "id": "NHNeUJModxZh"
      },
      "source": [
        "### Answer"
      ]
    },
    {
      "cell_type": "markdown",
      "metadata": {
        "id": "Tlk80JrudxZh"
      },
      "source": [
        "*Your answer here.*"
      ]
    },
    {
      "cell_type": "markdown",
      "metadata": {
        "id": "qAcuyrdQdxZh"
      },
      "source": [
        "***"
      ]
    }
  ],
  "metadata": {
    "kernelspec": {
      "display_name": "Python 3",
      "language": "python",
      "name": "python3"
    },
    "language_info": {
      "codemirror_mode": {
        "name": "ipython",
        "version": 3
      },
      "file_extension": ".py",
      "mimetype": "text/x-python",
      "name": "python",
      "nbconvert_exporter": "python",
      "pygments_lexer": "ipython3",
      "version": "3.7.4"
    },
    "colab": {
      "provenance": []
    }
  },
  "nbformat": 4,
  "nbformat_minor": 0
}