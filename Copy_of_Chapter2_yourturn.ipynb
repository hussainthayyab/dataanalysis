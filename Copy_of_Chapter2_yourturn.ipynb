{
  "cells": [
    {
      "cell_type": "markdown",
      "metadata": {
        "id": "f28f_WrJS68v"
      },
      "source": [
        "# To be completed at the Live Session and in your own time.\n",
        "\n",
        "These set of examples we will help you get familiar with estimating probabilities and using Bayes Theorem within a Jupyter notebook. The questions coloured green are important practice for CA.\n",
        "\n",
        "Before attempting these examples, please ensure you have read through [Chapter 2 Jupyter Notebook](https://github.com/haleygomez/Data-Analysis-2022/blob/master/blended_exercises/Chapter2/Chapter2.ipynb) and have completed the Learning Central **Chapter 2 quiz**.\n",
        "\n",
        "These are good practice for CA 1 Questions 1 and 4."
      ]
    },
    {
      "cell_type": "markdown",
      "metadata": {
        "id": "PdRlAcAMS68x"
      },
      "source": [
        "***"
      ]
    },
    {
      "cell_type": "markdown",
      "metadata": {
        "id": "OGdHE4SCS68x"
      },
      "source": [
        "# Probabilities"
      ]
    },
    {
      "cell_type": "markdown",
      "metadata": {
        "id": "aZRmtVUqS68y"
      },
      "source": [
        "***"
      ]
    },
    {
      "cell_type": "markdown",
      "metadata": {
        "id": "JsSpRa8NS68y"
      },
      "source": [
        "## Question"
      ]
    },
    {
      "cell_type": "markdown",
      "metadata": {
        "id": "6UFvRThqS68y"
      },
      "source": [
        "You want to send a document to your bank and it is very important it gets there the next day. You therefore send two copies of the document using Hermes (delivery service $A$) and the Royal Mail (delivery service $B$).  The probabilities of those companies delivering on time are:\n",
        "\n",
        "- 0.90 for service A\n",
        "- 0.80 for service B\n",
        "- 0.75 for both services being on time.\n",
        "\n",
        "Does your strategy improve the chances the document will be delivered on time?"
      ]
    },
    {
      "cell_type": "markdown",
      "metadata": {
        "id": "W8SX9dWaS68y"
      },
      "source": [
        "### Answer"
      ]
    },
    {
      "cell_type": "markdown",
      "metadata": {
        "id": "qPcjSdBWS68y"
      },
      "source": [
        "*Your answer here.*"
      ]
    },
    {
      "cell_type": "markdown",
      "metadata": {
        "id": "Vuu_7G91S68y"
      },
      "source": [
        "***"
      ]
    },
    {
      "cell_type": "markdown",
      "source": [
        "0.9 for service A P(A) = 0.9\n",
        "\n",
        "0.8 for service B P(B) = 0.8\n",
        "\n",
        "0.75 for both delivered on time\n",
        "\n",
        "(P(A and B)) = 0.75\n",
        "\n",
        "The answer here is P(A or B) P(A or B) is given by P(A) + P(B) - P(A and B)"
      ],
      "metadata": {
        "id": "MOdgXt4gZpGg"
      }
    },
    {
      "cell_type": "code",
      "source": [
        "P_A = 0.9\n",
        "P_B = 0.8\n",
        "P_A_and_B = 0.75\n",
        "\n",
        "P_A_or_B = P_A+P_B - P_A_and_B\n",
        "print('The probability of the document arriving using this method is', P_A_or_B)\n",
        "print('Therefore this method improves the chance of the document arriving')"
      ],
      "metadata": {
        "id": "mDcyyc4cZmWa"
      },
      "execution_count": null,
      "outputs": []
    },
    {
      "cell_type": "markdown",
      "metadata": {
        "id": "-Qe-3hZSS68z"
      },
      "source": [
        "## <font color=#30a64d>Question</font>"
      ]
    },
    {
      "cell_type": "markdown",
      "metadata": {
        "id": "3V7EoD9IS68z"
      },
      "source": [
        "You flip a coin 5 times. What is the probability that heads will not occur 3 times?    "
      ]
    },
    {
      "cell_type": "markdown",
      "metadata": {
        "id": "Qs-Zm0_nS68z"
      },
      "source": [
        "### Answer"
      ]
    },
    {
      "cell_type": "markdown",
      "metadata": {
        "id": "JWzUfI7JS68z"
      },
      "source": [
        "*Your answer here.*"
      ]
    },
    {
      "cell_type": "markdown",
      "source": [
        "Total possibilities: 2^5 = 32\n",
        "\n",
        "5!/3!2! = 10/32 = 5/16 = p(3 Heads)\n",
        "\n",
        "1 - 5/16 = 11/16 p(not getting 3 heads)\n",
        "\n"
      ],
      "metadata": {
        "id": "MFMMRGl2ZskY"
      }
    },
    {
      "cell_type": "markdown",
      "metadata": {
        "id": "H3WqNwR2S68z"
      },
      "source": [
        "***"
      ]
    },
    {
      "cell_type": "markdown",
      "metadata": {
        "id": "yphb-sDwS68z"
      },
      "source": [
        "# Bayes Theorem"
      ]
    },
    {
      "cell_type": "markdown",
      "metadata": {
        "id": "KShheo74S680"
      },
      "source": [
        "## <font color=#30a64d>Question</font>"
      ]
    },
    {
      "cell_type": "markdown",
      "metadata": {
        "id": "XYn_V-RcS680"
      },
      "source": [
        "Suppose you think you have a rare disease where 1 in 10,000 people are affected. You go to your doctor, and she performs a test. The test is of a high quality, and is correct 99% of the time.\n",
        "\n",
        "Unfortunately your results come back positive for the disease. What is your chance of having the disease? Is it (roughly): <br><br>\n",
        "\n",
        "a) 99% <br>\n",
        "b) 90% <br>\n",
        "c) 10% or <br>\n",
        "d) 1%? <br> <br>\n",
        "\n",
        "Repeat the same as above, but change 1 in 10,000 to 1 in 100. What would the chances of having the disease be now?"
      ]
    },
    {
      "cell_type": "markdown",
      "metadata": {
        "id": "nWfLH-wyS680"
      },
      "source": [
        "### Answer"
      ]
    },
    {
      "cell_type": "markdown",
      "metadata": {
        "id": "UOxi-xnJS680"
      },
      "source": [
        "prior event = positive test P(B) = 0.99\n",
        "second event = having disease P(A) = 1/10000\n",
        "\n",
        "P(A|B) = (P(B|A) * P(A)) / (P(B|A) * P(A)) + (P(B|A^c) * P(A^c))"
      ]
    },
    {
      "cell_type": "code",
      "source": [
        "\n",
        "\n",
        "PA = 1/10000\n",
        "PB = 0.99\n",
        "\n",
        "prob = (PB*PA)/((PA*PB))+((1-PB)*(1-PA))\n",
        "\n",
        "print('The percentage probability of having the disease when it is 1 in 100 is', prob)\n",
        "\n",
        "\n",
        "\n"
      ],
      "metadata": {
        "colab": {
          "base_uri": "https://localhost:8080/"
        },
        "id": "eYqPRBbXj1kS",
        "outputId": "12b74e90-1c7d-40be-e229-c4c745ad2aa2"
      },
      "execution_count": null,
      "outputs": [
        {
          "output_type": "stream",
          "name": "stdout",
          "text": [
            "The percentage probability of having the disease when it is 1 in 100 is 1.009999\n"
          ]
        }
      ]
    },
    {
      "cell_type": "code",
      "source": [
        "PA2 = 1/100\n",
        "PB = 0.99\n",
        "\n",
        "prob2 = (PB*PA2)/((PA2*PB))+((1-PB)*(1-PA2))\n",
        "\n",
        "print('The percentage probability of having the disease when it is 1 in 100 is', prob2)"
      ],
      "metadata": {
        "colab": {
          "base_uri": "https://localhost:8080/"
        },
        "id": "CswUaJoQl3GK",
        "outputId": "ce8b1bde-227b-4309-965a-a4eb4b0aa7a4"
      },
      "execution_count": null,
      "outputs": [
        {
          "output_type": "stream",
          "name": "stdout",
          "text": [
            "The percentage probability of having the disease when it is 1 in 100 is 1.0099\n"
          ]
        }
      ]
    },
    {
      "cell_type": "markdown",
      "metadata": {
        "id": "S-B97v0TS680"
      },
      "source": [
        "## Question"
      ]
    },
    {
      "cell_type": "markdown",
      "metadata": {
        "id": "wcfujcCGS681"
      },
      "source": [
        "We saw in [Chapter 2 Notebook](https://github.com/haleygomez/Data-Analysis-2022/blob/master/blended_exercises/Chapter2/Chapter2.ipynb) that the probability that a couple has 2 children that are boys when the older child is a boy is 50%.\n",
        "\n",
        "What about the following scenario: a couple has two children, of which at least one is a boy. If the probabilities of having a boy or a girl are both 50%, what is the probability that the couple has two boys?\n",
        "\n",
        "At first glance, this appears to be asking the same question as in our previous notebook. We might reason as follows: “We know that one is a boy, so the only question is whether the other one is a boy, and the chances of that being the case are 50%. So again, the answer is 50%.”\n",
        "\n",
        "Although this sounds common sense, it is incorrect.  Show why."
      ]
    },
    {
      "cell_type": "markdown",
      "metadata": {
        "id": "f9osPJNTS681"
      },
      "source": [
        "### Answer"
      ]
    },
    {
      "cell_type": "markdown",
      "metadata": {
        "id": "fumLvWexS681"
      },
      "source": [
        "There are three possibilities here:\n",
        "\n",
        "girl boy\n",
        "\n",
        "boy girl\n",
        "\n",
        "Boy boy\n",
        "\n",
        "Therefore the probabilty of having 2 boys is 1/3\n"
      ]
    }
  ],
  "metadata": {
    "kernelspec": {
      "display_name": "Python 3",
      "language": "python",
      "name": "python3"
    },
    "language_info": {
      "codemirror_mode": {
        "name": "ipython",
        "version": 3
      },
      "file_extension": ".py",
      "mimetype": "text/x-python",
      "name": "python",
      "nbconvert_exporter": "python",
      "pygments_lexer": "ipython3",
      "version": "3.7.4"
    },
    "colab": {
      "provenance": []
    }
  },
  "nbformat": 4,
  "nbformat_minor": 0
}